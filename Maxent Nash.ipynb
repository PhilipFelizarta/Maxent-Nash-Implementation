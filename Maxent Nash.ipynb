{
 "cells": [
  {
   "cell_type": "code",
   "execution_count": 1,
   "metadata": {},
   "outputs": [
    {
     "name": "stdout",
     "output_type": "stream",
     "text": [
      "[('Hbox', 'Leffen'), ('Hbox', 'Wizzrobe'), ('Hbox', 'Mango'), ('Hbox', 'Axe'), ('Hbox', 'Zain'), ('Hbox', 'Plup'), ('Hbox', 'IBDW'), ('Hbox', 'Amsa'), ('Leffen', 'Wizzrobe'), ('Leffen', 'Mango'), ('Leffen', 'Axe'), ('Leffen', 'Zain'), ('Leffen', 'Plup'), ('Leffen', 'IBDW'), ('Leffen', 'Amsa'), ('Wizzrobe', 'Mango'), ('Wizzrobe', 'Axe'), ('Wizzrobe', 'Zain'), ('Wizzrobe', 'Plup'), ('Wizzrobe', 'IBDW'), ('Wizzrobe', 'Amsa'), ('Mango', 'Axe'), ('Mango', 'Zain'), ('Mango', 'Plup'), ('Mango', 'IBDW'), ('Mango', 'Amsa'), ('Axe', 'Zain'), ('Axe', 'Plup'), ('Axe', 'IBDW'), ('Axe', 'Amsa'), ('Zain', 'Plup'), ('Zain', 'IBDW'), ('Zain', 'Amsa'), ('Plup', 'IBDW'), ('Plup', 'Amsa'), ('IBDW', 'Amsa')]\n"
     ]
    }
   ],
   "source": [
    "#This notebook will be a whiteboard for my attempt to replicate\n",
    "#this paper: https://repository.upenn.edu/cgi/viewcontent.cgi?article=1451&context=statistics_papers\n",
    "#Our focus will be on zero-sum games/metagames, since thats what most my research entails\n",
    "\n",
    "#Here will construct our aysmmetric matrix from csv file and map it to our action space\n",
    "import numpy as np\n",
    "import csv\n",
    "np.set_printoptions(precision=3, suppress=True)\n",
    "\n",
    "\n",
    "#This will be our meta_game action space\n",
    "action_space = []\n",
    "file = '2019SummerPR.csv'\n",
    "#We will survey the csv file to fill our action space\n",
    "with open(file, mode='r') as csv_file:\n",
    "    csv_reader = csv.DictReader(csv_file)\n",
    "    for row in csv_reader:\n",
    "        if row['Player1'] not in action_space:\n",
    "            action_space.append(row['Player1'])\n",
    "        \n",
    "        if row['Player2'] not in action_space:\n",
    "            action_space.append(row['Player2'])\n",
    "\n",
    "#Create action_to_index utility dictionary\n",
    "index = 0\n",
    "action_to_index = {}\n",
    "for action in action_space:\n",
    "    action_to_index[action] = index\n",
    "    index += 1\n",
    "\n",
    "#We will generate our dual variables.. intialize them to 0 and attempt to constuct\n",
    "#a mixed strategy from it\n",
    "dual_variables = {}\n",
    "joint = []\n",
    "for i in range(len(action_space)):\n",
    "    for j in range(len(action_space)):\n",
    "        if j > i:\n",
    "            #Since this is a meta_game, both players cannot select the same strategy (may not apply to all games)\n",
    "            joint_action = (action_space[i], action_space[j])\n",
    "            joint.append(joint_action)\n",
    "            dual_variables[joint_action] = 0\n",
    "\n",
    "#print(dual_variables)\n",
    "print(joint)"
   ]
  },
  {
   "cell_type": "code",
   "execution_count": 2,
   "metadata": {
    "scrolled": true
   },
   "outputs": [
    {
     "name": "stdout",
     "output_type": "stream",
     "text": [
      "('Hbox', 'Leffen') :  0.3333333333333333\n",
      "('Hbox', 'Wizzrobe') :  0.0\n",
      "('Hbox', 'Mango') :  0.6666666666666666\n",
      "('Hbox', 'Axe') :  1.0\n",
      "('Wizzrobe', 'Axe') :  0.25\n",
      "('Wizzrobe', 'Leffen') :  1.0\n",
      "('Mango', 'Axe') :  0.6666666666666666\n",
      "('Mango', 'Leffen') :  0.5\n",
      "('Mango', 'Wizzrobe') :  1.0\n",
      "('Axe', 'Leffen') :  0.6666666666666666\n",
      "('Zain', 'Wizzrobe') :  0.0\n",
      "('Zain', 'Plup') :  0.25\n",
      "('Zain', 'Axe') :  0.0\n",
      "('Zain', 'Mango') :  0.0\n",
      "('Zain', 'Leffen') :  0.0\n",
      "('Zain', 'Hbox') :  0.6666666666666666\n",
      "('Plup', 'Hbox') :  0.0\n",
      "('Plup', 'Mango') :  0.0\n",
      "('Plup', 'Wizzrobe') :  1.0\n",
      "('Plup', 'Leffen') :  0.0\n",
      "('Plup', 'Axe') :  0.0\n",
      "('IBDW', 'Hbox') :  0.5\n",
      "('IBDW', 'Mango') :  0.5\n",
      "('IBDW', 'Wizzrobe') :  0.0\n",
      "('IBDW', 'Axe') :  0.0\n",
      "('IBDW', 'Leffen') :  0.0\n",
      "('IBDW', 'Plup') :  0.0\n",
      "('IBDW', 'Zain') :  0.0\n",
      "('Amsa', 'Wizzrobe') :  0.0\n",
      "('Amsa', 'Leffen') :  0.0\n",
      "('Amsa', 'Hbox') :  1.0\n",
      "('Amsa', 'Zain') :  0.0\n",
      "('Amsa', 'Mango') :  1.0\n",
      "('Amsa', 'Axe') :  0.0\n",
      "('Amsa', 'Plup') :  0.0\n",
      "('Amsa', 'IBDW') :  0.0\n",
      "[[0.5   0.333 0.01  0.667 0.99  0.333 0.99  0.5   0.01 ]\n",
      " [0.667 0.5   0.01  0.5   0.333 0.99  0.99  0.99  0.99 ]\n",
      " [0.99  0.99  0.5   0.01  0.25  0.99  0.01  0.99  0.99 ]\n",
      " [0.333 0.5   0.99  0.5   0.667 0.99  0.99  0.5   0.01 ]\n",
      " [0.01  0.667 0.75  0.333 0.5   0.99  0.99  0.99  0.99 ]\n",
      " [0.667 0.01  0.01  0.01  0.01  0.5   0.25  0.99  0.99 ]\n",
      " [0.01  0.01  0.99  0.01  0.01  0.75  0.5   0.99  0.99 ]\n",
      " [0.5   0.01  0.01  0.5   0.01  0.01  0.01  0.5   0.99 ]\n",
      " [0.99  0.01  0.01  0.99  0.01  0.01  0.01  0.01  0.5  ]]\n",
      "[[ 0.    -0.693 -4.595  0.693  4.595 -0.693  4.595  0.    -4.595]\n",
      " [ 0.693  0.    -4.595  0.    -0.693  4.595  4.595  4.595  4.595]\n",
      " [ 4.595  4.595  0.    -4.595 -1.099  4.595 -4.595  4.595  4.595]\n",
      " [-0.693  0.     4.595  0.     0.693  4.595  4.595  0.    -4.595]\n",
      " [-4.595  0.693  1.099 -0.693  0.     4.595  4.595  4.595  4.595]\n",
      " [ 0.693 -4.595 -4.595 -4.595 -4.595  0.    -1.099  4.595  4.595]\n",
      " [-4.595 -4.595  4.595 -4.595 -4.595  1.099  0.     4.595  4.595]\n",
      " [ 0.    -4.595 -4.595  0.    -4.595 -4.595 -4.595  0.     4.595]\n",
      " [ 4.595 -4.595 -4.595  4.595 -4.595 -4.595 -4.595 -4.595  0.   ]]\n"
     ]
    }
   ],
   "source": [
    "#Here will construct our aysmmetric matrix from csv file and map it to our action space\n",
    "import numpy as np\n",
    "import csv\n",
    "np.set_printoptions(precision=3, suppress=True)\n",
    "\n",
    "with open(file, mode='r') as csv_file:\n",
    "    csv_reader = csv.DictReader(csv_file)\n",
    "    #Create two dictionaries to keep track of wins and losses over matches\n",
    "    matches = []\n",
    "    wins_i = {}\n",
    "    wins_j = {}\n",
    "    \n",
    "    for row in csv_reader:\n",
    "        i = row[\"Player1\"]\n",
    "        j = row[\"Player2\"]\n",
    "        match = (i, j)\n",
    "        matchPrime = (j, i)\n",
    "        win_i = float(row[\"Wins\"])\n",
    "        win_j = float(row[\"Loss\"])\n",
    "        \n",
    "        if (i in action_space) and (j in action_space):\n",
    "            if (match in matches) or (matchPrime in matches):\n",
    "                if match in matches:\n",
    "                    wins_i[match] += win_i\n",
    "                    wins_j[match] += win_j\n",
    "                else:\n",
    "                    wins_i[matchPrime] += win_j\n",
    "                    wins_j[matchPrime] += win_i\n",
    "            else:\n",
    "                matches.append(match)\n",
    "                wins_i[match] = win_i\n",
    "                wins_j[match] = win_j\n",
    "\n",
    "#Create payoff matrix\n",
    "M = np.full((len(action_space), len(action_space)), 0.5)\n",
    "for match, win_i in wins_i.items():\n",
    "    win_j = wins_j[match]\n",
    "    payout = win_i/(win_i + win_j)\n",
    "    print(match, \": \", payout)\n",
    "    name_i, name_j = match\n",
    "    \n",
    "    #Soften payout\n",
    "    epsilon = 0.01\n",
    "    if payout == 0.0:\n",
    "        payout += epsilon\n",
    "    elif payout == 1.0:\n",
    "        payout -= epsilon\n",
    "    \n",
    "    M[action_to_index[name_i]][action_to_index[name_j]] = payout\n",
    "    M[action_to_index[name_j]][action_to_index[name_i]] = 1 - payout\n",
    "\n",
    "#Before logit space\n",
    "print(M)\n",
    "#Create logit space\n",
    "M = np.log(M/(1-M))\n",
    "print(M)"
   ]
  },
  {
   "cell_type": "code",
   "execution_count": 3,
   "metadata": {},
   "outputs": [],
   "source": [
    "def payoff(action_1, action_2):\n",
    "    return M[action_to_index[action_1]][action_to_index[action_2]]\n",
    "\n",
    "def payoff_gain(alt_action, action, maximum=False, positive=True):\n",
    "    #Calculate M(alt_action, action') & M(action, action')\n",
    "    diff = 0 \n",
    "    for action_prime in action_space:\n",
    "        if action_prime is not action:\n",
    "            M_alt = payoff(alt_action, action_prime)\n",
    "            M_act = payoff(action, action_prime)\n",
    "            if maximum:     \n",
    "                if positive:\n",
    "                    diff += max(0, M_alt - M_act)\n",
    "                else:\n",
    "                    diff += max(0, -(M_alt - M_act))\n",
    "            else: \n",
    "                diff += M_alt - M_act\n",
    "    \n",
    "    return diff\n",
    "\n",
    "#Return Z(lambda) of dual variables\n",
    "def Z(dv):\n",
    "    sum_one = 0\n",
    "    for i in range(len(action_space)):\n",
    "        action = action_space[i]\n",
    "        sum_two = 0\n",
    "        for j in range(len(action_space)):\n",
    "            action_prime = action_space[j]\n",
    "            if j > i:\n",
    "                sum_two += dv[(action, action_prime)] * payoff_gain(action_prime, action)\n",
    "            elif j < i:\n",
    "                sum_two += dv[(action_prime, action)] * payoff_gain(action_prime, action)\n",
    "        sum_one += np.exp(-sum_two)\n",
    "    return sum_one\n",
    "\n",
    "#Get mixed strategy from dual variables\n",
    "def P(dv, a):\n",
    "    sum_one = 0\n",
    "    for pair in joint:\n",
    "        a1, a2 = pair\n",
    "        if a == a1:\n",
    "            sum_one += dv[pair]*payoff_gain(a2, a)\n",
    "        elif a == a2:\n",
    "            sum_one += dv[pair]*payoff_gain(a1, a)\n",
    "    \n",
    "    log_P = -sum_one - np.log(Z(dv))\n",
    "    return np.exp(log_P)\n",
    "    "
   ]
  },
  {
   "cell_type": "code",
   "execution_count": 4,
   "metadata": {},
   "outputs": [
    {
     "name": "stdout",
     "output_type": "stream",
     "text": [
      "4.595119850134589\n",
      "13.379894442295603\n",
      "0.11111111111111109\n"
     ]
    }
   ],
   "source": [
    "#Test our functions\n",
    "print(payoff(\"Wizzrobe\", \"Hbox\"))\n",
    "print(payoff_gain(\"Wizzrobe\", \"Hbox\"))\n",
    "print(P(dual_variables, \"Wizzrobe\"))"
   ]
  },
  {
   "cell_type": "code",
   "execution_count": 5,
   "metadata": {},
   "outputs": [],
   "source": [
    "def regret_pos(dv, action, action_prime):\n",
    "    P_a = P(dv, action)\n",
    "    final_sum = 0\n",
    "    for p2_action in action_space:\n",
    "        P_p2 = P(dv, p2_action)\n",
    "        p_gain = payoff(action_prime, p2_action) - payoff(action, p2_action)\n",
    "        \n",
    "        final_sum += (P_a*P_p2) * max(0, p_gain)\n",
    "        \n",
    "    return final_sum\n",
    "            \n",
    "def regret_neg(dv, action, action_prime):\n",
    "    P_a = P(dv, action)\n",
    "    final_sum = 0\n",
    "    for p2_action in action_space:\n",
    "        P_p2 = P(dv, p2_action)\n",
    "        p_gain = payoff(action_prime, p2_action) - payoff(action, p2_action)\n",
    "        \n",
    "        final_sum += (P_a*P_p2) * max(0, -p_gain)\n",
    "        \n",
    "    return final_sum\n",
    "\n",
    "def regret_both(dv, action, action_prime):\n",
    "    P_a = P(dv, action)\n",
    "    p = 0\n",
    "    n = 0\n",
    "    for p2_action in action_space:\n",
    "        P_p2 = P(dv, p2_action)\n",
    "        p_gain = payoff(action_prime, p2_action) - payoff(action, p2_action)\n",
    "        \n",
    "        p += (P_a*P_p2) * max(0, p_gain)\n",
    "        n += (P_a*P_p2) * max(0, -p_gain)\n",
    "        \n",
    "    return p, n"
   ]
  },
  {
   "cell_type": "code",
   "execution_count": 6,
   "metadata": {},
   "outputs": [
    {
     "name": "stdout",
     "output_type": "stream",
     "text": [
      "0.4142238680501482\n",
      "0.24903998604649882\n",
      "(0.4142238680501482, 0.24903998604649882)\n"
     ]
    }
   ],
   "source": [
    "print(regret_pos(dual_variables, \"Hbox\", \"Wizzrobe\"))\n",
    "print(regret_neg(dual_variables, \"Hbox\", \"Wizzrobe\"))\n",
    "print(regret_both(dual_variables, \"Hbox\", \"Wizzrobe\"))"
   ]
  },
  {
   "cell_type": "code",
   "execution_count": 7,
   "metadata": {},
   "outputs": [],
   "source": [
    "def abs_gain(action, action_prime):\n",
    "    total = 0\n",
    "    for p2_action in action_space:\n",
    "        p_gain = abs(payoff(action_prime, p2_action) - payoff(action, p2_action))\n",
    "        total += p_gain\n",
    "    \n",
    "    return total\n",
    "        \n",
    "def lower_bound_c():\n",
    "    bound = 0\n",
    "    for action in action_space:\n",
    "        for action_prime in action_space:\n",
    "            a_gain = abs_gain(action, action_prime)\n",
    "            bound += a_gain\n",
    "    return bound "
   ]
  },
  {
   "cell_type": "code",
   "execution_count": 8,
   "metadata": {},
   "outputs": [
    {
     "name": "stdout",
     "output_type": "stream",
     "text": [
      "43.84098530099931\n",
      "2594.050924294146\n"
     ]
    }
   ],
   "source": [
    "print(abs_gain(\"Wizzrobe\", \"Mango\"))\n",
    "print(lower_bound_c())"
   ]
  },
  {
   "cell_type": "code",
   "execution_count": 9,
   "metadata": {},
   "outputs": [],
   "source": [
    "from tqdm import tqdm \n",
    "\n",
    "def sort_dictionary(d):\n",
    "    sorted_x = sorted(d.items(), key=lambda kv: kv[1])\n",
    "    return sorted_x\n",
    "\n",
    "def plot(dv):\n",
    "    probs = {}\n",
    "    for action in action_space:\n",
    "        probs[action] = P(dv,action)\n",
    "    \n",
    "    import matplotlib.pyplot as plt; plt.rcdefaults()\n",
    "    import numpy as np\n",
    "    import matplotlib.pyplot as plt\n",
    "\n",
    "    sort = sort_dictionary(probs)\n",
    "    #For tier lists\n",
    "    objects = []\n",
    "    performance = []\n",
    "    for player, value in sort:\n",
    "        objects.append(player)\n",
    "        performance.append(value)\n",
    "\n",
    "\n",
    "    y_pos = np.arange(len(objects))\n",
    "    plt.barh(y_pos, performance, align=\"center\")\n",
    "    plt.yticks(y_pos, objects)\n",
    "    plt.xlabel('Density')\n",
    "    plt.ylabel('Strategies')\n",
    "    plt.title('Maximum Entropy Nash Distribution')\n",
    "\n",
    "    plt.show()\n",
    "    \n",
    "def log_grad_descent(dv, rounds=10, verbose=True):\n",
    "    c = lower_bound_c()\n",
    "    \n",
    "    for it in tqdm(range(rounds)):\n",
    "        step_dict = {}\n",
    "        for pair in joint:\n",
    "            \"\"\"\n",
    "            r_pos = regret_pos(dv, action, action_prime)\n",
    "            r_neg = regret_neg(dv, action, action_prime)\n",
    "            \"\"\"\n",
    "            \n",
    "            a1, a2 = pair\n",
    "            r_pos, r_neg = regret_both(dv, a1, a2)\n",
    "\n",
    "            #print(\"Joint Action: \", (action, action_prime))\n",
    "            #print(\"r_pos: \", r_pos)\n",
    "            #print(\"r_neg: \", r_neg)\n",
    "\n",
    "            term = ((r_pos)/(r_pos + r_neg)) - (1/2)\n",
    "\n",
    "\n",
    "            step = (1/c)*term\n",
    "\n",
    "            step_dict[pair] = step\n",
    "                \n",
    "        for pair in joint:\n",
    "            dv[pair] = max(0, dv[pair] + step_dict[pair])\n",
    "                \n",
    "        if verbose:\n",
    "            print(\"Iteration \", it)\n",
    "            plot(dv)"
   ]
  },
  {
   "cell_type": "code",
   "execution_count": 10,
   "metadata": {
    "scrolled": true
   },
   "outputs": [
    {
     "name": "stderr",
     "output_type": "stream",
     "text": [
      "100%|██████████| 1000/1000 [05:29<00:00,  2.98it/s]\n"
     ]
    }
   ],
   "source": [
    "#We will generate our dual variables.. intialize them to 0 and attempt to constuct\n",
    "#a mixed strategy from it\n",
    "du = {}\n",
    "joint = []\n",
    "for i in range(len(action_space)):\n",
    "    for j in range(len(action_space)):\n",
    "        if j > i:\n",
    "            #Since this is a meta_game, both players cannot select the same strategy (may not apply to all games)\n",
    "            joint_action = (action_space[i], action_space[j])\n",
    "            joint.append(joint_action)\n",
    "            du[joint_action] = 0\n",
    "        \n",
    "log_grad_descent(du, verbose=False, rounds=1000)"
   ]
  },
  {
   "cell_type": "code",
   "execution_count": 11,
   "metadata": {},
   "outputs": [
    {
     "name": "stdout",
     "output_type": "stream",
     "text": [
      "Hbox :  0.015124244411057513\n",
      "Leffen :  0.10993370173081124\n",
      "Wizzrobe :  0.08653409006179621\n",
      "Mango :  0.05797435259392311\n",
      "Axe :  0.36879347918425937\n",
      "Zain :  0.03757536030504645\n",
      "Plup :  0.16607383357172964\n",
      "IBDW :  0.07899546907068823\n",
      "Amsa :  0.07899546907068823\n"
     ]
    }
   ],
   "source": [
    "probs = {}\n",
    "for action in action_space:\n",
    "    probs[action] = P(du,action)\n",
    "    print(action, \": \", P(du, action))"
   ]
  },
  {
   "cell_type": "code",
   "execution_count": 13,
   "metadata": {},
   "outputs": [
    {
     "data": {
      "image/png": "[encoded data removed]",
      "text/plain": [
       "<Figure size 640x480 with 1 Axes>"
      ]
     },
     "metadata": {},
     "output_type": "display_data"
    }
   ],
   "source": [
    "plot(du)"
   ]
  },
  {
   "cell_type": "code",
   "execution_count": null,
   "metadata": {},
   "outputs": [],
   "source": []
  }
 ],
 "metadata": {
  "kernelspec": {
   "display_name": "tensorflow",
   "language": "python",
   "name": "tensorflow"
  },
  "language_info": {
   "codemirror_mode": {
    "name": "ipython",
    "version": 3
   },
   "file_extension": ".py",
   "mimetype": "text/x-python",
   "name": "python",
   "nbconvert_exporter": "python",
   "pygments_lexer": "ipython3",
   "version": "3.6.8"
  }
 },
 "nbformat": 4,
 "nbformat_minor": 2
}
