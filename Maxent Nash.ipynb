{
 "cells": [
  {
   "cell_type": "code",
   "execution_count": 14,
   "metadata": {},
   "outputs": [
    {
     "name": "stdout",
     "output_type": "stream",
     "text": [
      "[('NegativeV', 'MANTRA'), ('NegativeV', 'Jujuace'), ('NegativeV', 'Zapfreak'), ('NegativeV', 'Manny'), ('MANTRA', 'NegativeV'), ('MANTRA', 'Jujuace'), ('MANTRA', 'Zapfreak'), ('MANTRA', 'Manny'), ('Jujuace', 'NegativeV'), ('Jujuace', 'MANTRA'), ('Jujuace', 'Zapfreak'), ('Jujuace', 'Manny'), ('Zapfreak', 'NegativeV'), ('Zapfreak', 'MANTRA'), ('Zapfreak', 'Jujuace'), ('Zapfreak', 'Manny'), ('Manny', 'NegativeV'), ('Manny', 'MANTRA'), ('Manny', 'Jujuace'), ('Manny', 'Zapfreak')]\n",
      "{'NegativeV': 0, 'MANTRA': 1, 'Jujuace': 2, 'Zapfreak': 3, 'Manny': 4}\n"
     ]
    }
   ],
   "source": [
    "#This notebook will be a whiteboard for my attempt to replicate\n",
    "#this paper: https://repository.upenn.edu/cgi/viewcontent.cgi?article=1451&context=statistics_papers\n",
    "#Our focus will be on zero-sum games/metagames, since thats what most my research entails\n",
    "\n",
    "#Here will construct our aysmmetric matrix from csv file and map it to our action space\n",
    "import numpy as np\n",
    "import csv\n",
    "np.set_printoptions(precision=3, suppress=True)\n",
    "\n",
    "\n",
    "#This will be our meta_game action space\n",
    "action_space = []\n",
    "file = 'F19PRUlt.csv'\n",
    "#We will survey the csv file to fill our action space\n",
    "with open(file, mode='r') as csv_file:\n",
    "    csv_reader = csv.DictReader(csv_file)\n",
    "    for row in csv_reader:\n",
    "        if row['Player1'] not in action_space:\n",
    "            action_space.append(row['Player1'])\n",
    "        \n",
    "        if row['Player2'] not in action_space:\n",
    "            action_space.append(row['Player2'])\n",
    "\n",
    "#Create action_to_index utility dictionary\n",
    "index = 0\n",
    "action_to_index = {}\n",
    "for action in action_space:\n",
    "    action_to_index[action] = index\n",
    "    index += 1\n",
    "\n",
    "#We will generate our dual variables.. intialize them to 0 and attempt to constuct\n",
    "#a mixed strategy from it\n",
    "dual_variables = {}\n",
    "joint = []\n",
    "for i in range(len(action_space)):\n",
    "    for j in range(len(action_space)):\n",
    "        if j != i:\n",
    "            #Since this is a meta_game, both players cannot select the same strategy (may not apply to all games)\n",
    "            joint_action = (action_space[i], action_space[j])\n",
    "            joint.append(joint_action)\n",
    "            dual_variables[joint_action] = 0\n",
    "\n",
    "#print(dual_variables)\n",
    "print(joint)\n",
    "print(action_to_index)"
   ]
  },
  {
   "cell_type": "code",
   "execution_count": 15,
   "metadata": {},
   "outputs": [
    {
     "name": "stdout",
     "output_type": "stream",
     "text": [
      "('NegativeV', 'MANTRA') :  1.714285714\n",
      "('NegativeV', 'MANTRA')\n",
      "('NegativeV', 'Jujuace') :  0.142871429\n",
      "('NegativeV', 'Jujuace')\n",
      "('NegativeV', 'Zapfreak') :  0.7\n",
      "('NegativeV', 'Zapfreak')\n",
      "('NegativeV', 'Manny') :  -1.2\n",
      "('NegativeV', 'Manny')\n",
      "('MANTRA', 'Jujuace') :  -0.5666666\n",
      "('MANTRA', 'Jujuace')\n",
      "('MANTRA', 'Zapfreak') :  0.125\n",
      "('MANTRA', 'Zapfreak')\n",
      "('MANTRA', 'Manny') :  -0.1428571429\n",
      "('MANTRA', 'Manny')\n",
      "('Jujuace', 'Zapfreak') :  -0.25\n",
      "('Jujuace', 'Zapfreak')\n",
      "('Jujuace', 'Manny') :  -1.66666666\n",
      "('Jujuace', 'Manny')\n",
      "('Zapfreak', 'Manny') :  -1.75\n",
      "('Zapfreak', 'Manny')\n",
      "[[ 0.     1.714  0.143  0.7   -1.2  ]\n",
      " [-1.714  0.    -0.567  0.125 -0.143]\n",
      " [-0.143  0.567  0.    -0.25  -1.667]\n",
      " [-0.7   -0.125  0.25   0.    -1.75 ]\n",
      " [ 1.2    0.143  1.667  1.75   0.   ]]\n",
      "[[ 0.     1.714  0.143  0.7   -1.2  ]\n",
      " [-1.714  0.    -0.567  0.125 -0.143]\n",
      " [-0.143  0.567  0.    -0.25  -1.667]\n",
      " [-0.7   -0.125  0.25   0.    -1.75 ]\n",
      " [ 1.2    0.143  1.667  1.75   0.   ]]\n",
      "[None, ('NegativeV', 'MANTRA'), ('NegativeV', 'Jujuace'), ('NegativeV', 'Zapfreak'), ('NegativeV', 'Manny')]\n",
      "[('MANTRA', 'NegativeV'), None, ('MANTRA', 'Jujuace'), ('MANTRA', 'Zapfreak'), ('MANTRA', 'Manny')]\n",
      "[('Jujuace', 'NegativeV'), ('Jujuace', 'MANTRA'), None, ('Jujuace', 'Zapfreak'), ('Jujuace', 'Manny')]\n",
      "[('Zapfreak', 'NegativeV'), ('Zapfreak', 'MANTRA'), ('Zapfreak', 'Jujuace'), None, ('Zapfreak', 'Manny')]\n",
      "[('Manny', 'NegativeV'), ('Manny', 'MANTRA'), ('Manny', 'Jujuace'), ('Manny', 'Zapfreak'), None]\n"
     ]
    }
   ],
   "source": [
    "#Here will construct our aysmmetric matrix from csv file and map it to our action space\n",
    "import numpy as np\n",
    "import csv\n",
    "np.set_printoptions(precision=3, suppress=True)\n",
    "\n",
    "\"\"\"\n",
    "with open(file, mode='r') as csv_file:\n",
    "    csv_reader = csv.DictReader(csv_file)\n",
    "    #Create two dictionaries to keep track of wins and losses over matches\n",
    "    matches = []\n",
    "    wins_i = {}\n",
    "    wins_j = {}\n",
    "    \n",
    "    for row in csv_reader:\n",
    "        i = row[\"Player1\"]\n",
    "        j = row[\"Player2\"]\n",
    "        match = (i, j)\n",
    "        matchPrime = (j, i)\n",
    "        win_i = float(row[\"Wins\"])\n",
    "        win_j = float(row[\"Loss\"])\n",
    "        \n",
    "        if (i in action_space) and (j in action_space):\n",
    "            if (match in matches) or (matchPrime in matches):\n",
    "                if match in matches:\n",
    "                    wins_i[match] += win_i\n",
    "                    wins_j[match] += win_j\n",
    "                else:\n",
    "                    wins_i[matchPrime] += win_j\n",
    "                    wins_j[matchPrime] += win_i\n",
    "            else:\n",
    "                matches.append(match)\n",
    "                wins_i[match] = win_i\n",
    "                wins_j[match] = win_j\n",
    "\"\"\"\n",
    "with open(file, mode='r') as csv_file:\n",
    "    csv_reader = csv.DictReader(csv_file)\n",
    "    #Create two dictionaries to keep track of wins and losses over matches\n",
    "    matches = []\n",
    "    pay = {}\n",
    "    \n",
    "    for row in csv_reader:\n",
    "        i = row[\"Player1\"]\n",
    "        j = row[\"Player2\"]\n",
    "        match = (i, j)\n",
    "        matchPrime = (j, i)\n",
    "        p = float(row[\"Pay\"])\n",
    "        if (i in action_space) and (j in action_space):\n",
    "            if (match in matches) or (matchPrime in matches):\n",
    "                print(\"in match\")\n",
    "                if match in matches:\n",
    "                    pay[match] += p\n",
    "                else:\n",
    "                    pay[matchPrime] += p\n",
    "            else:\n",
    "                matches.append(match)\n",
    "                pay[match] = p\n",
    "\n",
    "#Create payoff matrix\n",
    "M = np.full((len(action_space), len(action_space)), 0.0)\n",
    "matchup = [[None]*len(action_space) for i in range(len(action_space))]\n",
    "for match, p in pay.items():\n",
    "    print(match, \": \", p)\n",
    "    name_i, name_j = match\n",
    "    print((name_i, name_j))\n",
    "    \n",
    "    M[action_to_index[name_i]][action_to_index[name_j]] = p\n",
    "    M[action_to_index[name_j]][action_to_index[name_i]] = -p\n",
    "    matchup[action_to_index[name_i]][action_to_index[name_j]] = (name_i, name_j)\n",
    "    matchup[action_to_index[name_j]][action_to_index[name_i]] = (name_j, name_i)\n",
    "\n",
    "#Before logit space\n",
    "print(M)\n",
    "#Create logit space\n",
    "#M = np.log(M/(1-M))\n",
    "print(M)\n",
    "for row in matchup:\n",
    "    print(row)"
   ]
  },
  {
   "cell_type": "code",
   "execution_count": 16,
   "metadata": {},
   "outputs": [],
   "source": [
    "def payoff(action_1, action_2):\n",
    "    return M[action_to_index[action_1]][action_to_index[action_2]]\n",
    "\n",
    "def payoff_gain(alt_action, action, maximum=False, positive=True):\n",
    "    #Calculate M(alt_action, action') & M(action, action')\n",
    "    diff = 0 \n",
    "    for action_prime in action_space:\n",
    "        if action_prime is not action:\n",
    "            M_alt = payoff(alt_action, action_prime)\n",
    "            M_act = payoff(action, action_prime)\n",
    "            if maximum:     \n",
    "                if positive:\n",
    "                    diff += max(0, M_alt - M_act)\n",
    "                else:\n",
    "                    diff += max(0, -(M_alt - M_act))\n",
    "            else: \n",
    "                diff += M_alt - M_act\n",
    "    \n",
    "    return diff\n",
    "\n",
    "#Return Z(lambda) of dual variables\n",
    "def Z(dv):\n",
    "    sum_one = 0\n",
    "    for i in range(len(action_space)):\n",
    "        action = action_space[i]\n",
    "        sum_two = 0\n",
    "        for j in range(len(action_space)):\n",
    "            action_prime = action_space[j]\n",
    "            if j != i:\n",
    "                sum_two += dv[(action, action_prime)] * payoff_gain(action_prime, action)\n",
    "        sum_one += np.exp(-sum_two)\n",
    "    return sum_one\n",
    "\n",
    "#Get mixed strategy from dual variables\n",
    "def P(dv, a):\n",
    "    sum_one = 0\n",
    "    for action in action_space:\n",
    "        if action != a:\n",
    "            sum_one += dv[(a, action)]*payoff_gain(action, a)\n",
    "    \n",
    "    log_P = -sum_one - np.log(Z(dv))\n",
    "    return np.exp(log_P)\n",
    "    "
   ]
  },
  {
   "cell_type": "code",
   "execution_count": 17,
   "metadata": {},
   "outputs": [
    {
     "name": "stdout",
     "output_type": "stream",
     "text": [
      "1.2\n",
      "3.4023666599\n",
      "0.2\n"
     ]
    }
   ],
   "source": [
    "#Test our functions\n",
    "print(payoff(\"Manny\", \"NegativeV\"))\n",
    "print(payoff_gain(\"Manny\", \"NegativeV\"))\n",
    "print(P(dual_variables, \"Manny\"))"
   ]
  },
  {
   "cell_type": "code",
   "execution_count": 18,
   "metadata": {},
   "outputs": [],
   "source": [
    "def regret_pos(dv, action, action_prime):\n",
    "    P_a = P(dv, action)\n",
    "    final_sum = 0\n",
    "    for p2_action in action_space:\n",
    "        P_p2 = P(dv, p2_action)\n",
    "        p_gain = payoff(action_prime, p2_action) - payoff(action, p2_action)\n",
    "        \n",
    "        final_sum += (P_a*P_p2) * max(0, p_gain)\n",
    "        \n",
    "    return final_sum\n",
    "            \n",
    "def regret_neg(dv, action, action_prime):\n",
    "    P_a = P(dv, action)\n",
    "    final_sum = 0\n",
    "    for p2_action in action_space:\n",
    "        P_p2 = P(dv, p2_action)\n",
    "        p_gain = payoff(action_prime, p2_action) - payoff(action, p2_action)\n",
    "        \n",
    "        final_sum += (P_a*P_p2) * max(0, -p_gain)\n",
    "        \n",
    "    return final_sum\n",
    "\n",
    "def regret_both(dv, action, action_prime):\n",
    "    P_a = P(dv, action)\n",
    "    p = 0\n",
    "    n = 0\n",
    "    for p2_action in action_space:\n",
    "        P_p2 = P(dv, p2_action)\n",
    "        p_gain = payoff(action_prime, p2_action) - payoff(action, p2_action)\n",
    "        \n",
    "        p += (P_a*P_p2) * max(0, p_gain)\n",
    "        n += (P_a*P_p2) * max(0, -p_gain)\n",
    "        \n",
    "    return p, n"
   ]
  },
  {
   "cell_type": "code",
   "execution_count": 19,
   "metadata": {},
   "outputs": [
    {
     "name": "stdout",
     "output_type": "stream",
     "text": [
      "0.06285714284400001\n",
      "0.19895180924000005\n",
      "(0.06285714284400001, 0.19895180924000005)\n"
     ]
    }
   ],
   "source": [
    "print(regret_pos(dual_variables, \"Manny\", \"NegativeV\"))\n",
    "print(regret_neg(dual_variables, \"Manny\", \"NegativeV\"))\n",
    "print(regret_both(dual_variables, \"Manny\", \"NegativeV\"))"
   ]
  },
  {
   "cell_type": "code",
   "execution_count": 20,
   "metadata": {},
   "outputs": [],
   "source": [
    "def abs_gain(action, action_prime):\n",
    "    total = 0\n",
    "    for p2_action in action_space:\n",
    "        p_gain = abs(payoff(action_prime, p2_action) - payoff(action, p2_action))\n",
    "        total += p_gain\n",
    "    \n",
    "    return total\n",
    "        \n",
    "def lower_bound_c():\n",
    "    bound = 0\n",
    "    for action in action_space:\n",
    "        for action_prime in action_space:\n",
    "            a_gain = abs_gain(action, action_prime)\n",
    "            bound += a_gain\n",
    "    return bound "
   ]
  },
  {
   "cell_type": "code",
   "execution_count": 21,
   "metadata": {},
   "outputs": [
    {
     "name": "stdout",
     "output_type": "stream",
     "text": [
      "6.5452238021\n",
      "100.85714197239996\n"
     ]
    }
   ],
   "source": [
    "print(abs_gain(\"Manny\", \"NegativeV\"))\n",
    "print(lower_bound_c())"
   ]
  },
  {
   "cell_type": "code",
   "execution_count": 22,
   "metadata": {},
   "outputs": [],
   "source": [
    "from tqdm import tqdm \n",
    "\n",
    "def sort_dictionary(d):\n",
    "    sorted_x = sorted(d.items(), key=lambda kv: kv[1])\n",
    "    return sorted_x\n",
    "\n",
    "def plot(dv):\n",
    "    probs = {}\n",
    "    for action in action_space:\n",
    "        probs[action] = P(dv,action)\n",
    "    \n",
    "    import matplotlib.pyplot as plt; plt.rcdefaults()\n",
    "    import numpy as np\n",
    "    import matplotlib.pyplot as plt\n",
    "\n",
    "    sort = sort_dictionary(probs)\n",
    "    #For tier lists\n",
    "    objects = []\n",
    "    performance = []\n",
    "    for player, value in sort:\n",
    "        objects.append(player)\n",
    "        performance.append(value)\n",
    "\n",
    "\n",
    "    y_pos = np.arange(len(objects))\n",
    "    plt.barh(y_pos, performance, align=\"center\")\n",
    "    plt.yticks(y_pos, objects)\n",
    "    plt.xlabel('Density')\n",
    "    plt.ylabel('Strategies')\n",
    "    plt.title('Maximum Entropy Nash Distribution')\n",
    "\n",
    "    plt.show()\n",
    "    \n",
    "def log_grad_descent(dv, space, rounds=10, verbose=True):\n",
    "    c = lower_bound_c()\n",
    "    \n",
    "    for it in tqdm(range(rounds)):\n",
    "        step_dict = {}\n",
    "        for pair in space:\n",
    "            \"\"\"\n",
    "            r_pos = regret_pos(dv, action, action_prime)\n",
    "            r_neg = regret_neg(dv, action, action_prime)\n",
    "            \"\"\"\n",
    "            \n",
    "            a1, a2 = pair\n",
    "            r_pos, r_neg = regret_both(dv, a1, a2)\n",
    "\n",
    "            #print(\"Joint Action: \", (action, action_prime))\n",
    "            #print(\"r_pos: \", r_pos)\n",
    "            #print(\"r_neg: \", r_neg)\n",
    "\n",
    "            term = ((r_pos)/(r_pos + r_neg)) - (1/2)\n",
    "\n",
    "\n",
    "            step = (1/c)*term\n",
    "\n",
    "            step_dict[pair] = step\n",
    "                \n",
    "        for pair in joint:\n",
    "            dv[pair] = max(0, dv[pair] + step_dict[pair])\n",
    "                \n",
    "        if verbose:\n",
    "            print(\"Iteration \", it)\n",
    "            plot(dv)"
   ]
  },
  {
   "cell_type": "code",
   "execution_count": 23,
   "metadata": {
    "scrolled": true
   },
   "outputs": [
    {
     "name": "stderr",
     "output_type": "stream",
     "text": [
      "100%|██████████| 1000/1000 [00:20<00:00, 49.31it/s]\n"
     ]
    }
   ],
   "source": [
    "#We will generate our dual variables.. intialize them to 0 and attempt to constuct\n",
    "#a mixed strategy from it\n",
    "du = {}\n",
    "joint = []\n",
    "for i in range(len(action_space)):\n",
    "    for j in range(len(action_space)):\n",
    "        if j != i:\n",
    "            #Since this is a meta_game, both players cannot select the same strategy (may not apply to all games)\n",
    "            joint_action = (action_space[i], action_space[j])\n",
    "            joint.append(joint_action)\n",
    "            du[joint_action] = 0\n",
    "        \n",
    "log_grad_descent(du, joint, verbose=False, rounds=1000)"
   ]
  },
  {
   "cell_type": "code",
   "execution_count": 24,
   "metadata": {
    "scrolled": true
   },
   "outputs": [
    {
     "name": "stdout",
     "output_type": "stream",
     "text": [
      "NegativeV :  0.01845339904482126\n",
      "MANTRA :  1.266970326912079e-15\n",
      "Jujuace :  5.489608115456571e-16\n",
      "Zapfreak :  1.0468739093849084e-20\n",
      "Manny :  0.9815466009551769\n"
     ]
    }
   ],
   "source": [
    "probs = {}\n",
    "for action in action_space:\n",
    "    probs[action] = P(du,action)\n",
    "    print(action, \": \", P(du, action))"
   ]
  },
  {
   "cell_type": "code",
   "execution_count": 25,
   "metadata": {},
   "outputs": [
    {
     "data": {
      "image/png": "[encoded data removed]",
      "text/plain": [
       "<Figure size 640x480 with 1 Axes>"
      ]
     },
     "metadata": {},
     "output_type": "display_data"
    }
   ],
   "source": [
    "plot(du)"
   ]
  },
  {
   "cell_type": "code",
   "execution_count": 15,
   "metadata": {},
   "outputs": [
    {
     "name": "stdout",
     "output_type": "stream",
     "text": [
      "{('Blue', 'Toasty'): 3.292931642876077, ('Blue', 'C2'): 0, ('Blue', 'Dabes'): 0, ('Blue', 'Alarm'): 0, ('Toasty', 'Blue'): 0, ('Toasty', 'C2'): 0, ('Toasty', 'Dabes'): 0, ('Toasty', 'Alarm'): 0, ('C2', 'Blue'): 3.9321567292425716, ('C2', 'Toasty'): 4.000658543572075, ('C2', 'Dabes'): 0, ('C2', 'Alarm'): 0, ('Dabes', 'Blue'): 3.9375497138822393, ('Dabes', 'Toasty'): 3.870377395859015, ('Dabes', 'C2'): 3.34552344850577, ('Dabes', 'Alarm'): 0, ('Alarm', 'Blue'): 4.086302713305041, ('Alarm', 'Toasty'): 4.086302713305041, ('Alarm', 'C2'): 3.918095492454819, ('Alarm', 'Dabes'): 4.086302713305041}\n"
     ]
    }
   ],
   "source": [
    "print(du)"
   ]
  },
  {
   "cell_type": "code",
   "execution_count": null,
   "metadata": {},
   "outputs": [],
   "source": []
  }
 ],
 "metadata": {
  "kernelspec": {
   "display_name": "tensorflow",
   "language": "python",
   "name": "tensorflow"
  },
  "language_info": {
   "codemirror_mode": {
    "name": "ipython",
    "version": 3
   },
   "file_extension": ".py",
   "mimetype": "text/x-python",
   "name": "python",
   "nbconvert_exporter": "python",
   "pygments_lexer": "ipython3",
   "version": "3.6.8"
  }
 },
 "nbformat": 4,
 "nbformat_minor": 2
}
